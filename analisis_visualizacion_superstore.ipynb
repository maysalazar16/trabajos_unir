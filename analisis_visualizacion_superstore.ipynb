{
 "cells": [
  {
   "cell_type": "code",
   "execution_count": null,
   "id": "99e3c0af",
   "metadata": {},
   "outputs": [],
   "source": [
    "# Visualizaciones univariantes específicas para Superstore con Seaborn\n",
    "print(\"🎨 VISUALIZACIONES UNIVARIANTES - SUPERSTORE (SEABORN)\")\n",
    "print(\"=\" * 80)\n",
    "\n",
    "# Configurar estilo específico para Superstore\n",
    "sns.set_style(\"whitegrid\")\n",
    "sns.set_palette([\"#2E86AB\", \"#A23B72\", \"#F18F01\", \"#C73E1D\"])\n",
    "\n",
    "# Crear subplot para análisis con Seaborn\n",
    "fig, axes = plt.subplots(2, 2, figsize=(16, 12))\n",
    "fig.suptitle('Análisis Univariante Superstore 2012 - Seaborn', fontsize=16, fontweight='bold')\n",
    "\n",
    "# 1. Histplot con KDE para Sales\n",
    "if 'Sales' in variables_numericas:\n",
    "    sns.histplot(data=df_clean, x='Sales', kde=True, ax=axes[0, 0], \n",
    "                color='#2E86AB', alpha=0.7, bins=40)\n",
    "    axes[0, 0].set_title('Distribución de Ventas con KDE', fontsize=12, fontweight='bold')\n",
    "    axes[0, 0].set_xlabel('Ventas ($)')\n",
    "    axes[0, 0].set_ylabel('Densidad')\n",
    "\n",
    "# 2. Countplot para Regiones\n",
    "if 'Region' in variables_categoricas:\n",
    "    sns.countplot(data=df_clean, x='Region', ax=axes[0, 1], palette='viridis')\n",
    "    axes[0, 1].set_title('Distribución por Región Geográfica', fontsize=12, fontweight='bold')\n",
    "    axes[0, 1].set_xlabel('Región')\n",
    "    axes[0, 1].set_ylabel('Número de Órdenes')\n",
    "    axes[0, 1].tick_params(axis='x', rotation=45)\n",
    "\n",
    "# 3. Violinplot para Discount\n",
    "if 'Discount' in variables_numericas:\n",
    "    sns.violinplot(data=df_clean, y='Discount', ax=axes[1, 0], color='#A23B72')\n",
    "    axes[1, 0].set_title('Distribución de Descuentos', fontsize=12, fontweight='bold')\n",
    "    axes[1, 0].set_ylabel('Descuento (%)')\n",
    "\n",
    "# 4. Boxplot para Shipping Cost por Ship Mode\n",
    "if 'Shipping Cost' in variables_numericas and 'Ship Mode' in variables_categoricas:\n",
    "    sns.boxplot(data=df_clean, x='Ship Mode', y='Shipping Cost', ax=axes[1, 1], palette='Set2')\n",
    "    axes[1, 1].set_title('Costo de Envío por Modo de Envío', fontsize=12, fontweight='bold')\n",
    "    axes[1, 1].set_xlabel('Modo de Envío')\n",
    "    axes[1, 1].set_ylabel('Costo de Envío ($)')\n",
    "    axes[1, 1].tick_params(axis='x', rotation=45)\n",
    "\n",
    "plt.tight_layout()\n",
    "plt.savefig('graficos/superstore_seaborn_univariante.png', dpi=300, bbox_inches='tight')\n",
    "plt.show()\n",
    "\n",
    "print(\"\\n🎨 CONCLUSIONES DE ANÁLISIS UNIVARIANTE (SEABORN):\")\n",
    "print(\"✅ KDE revela distribución log-normal en ventas con pico en valores bajos\")\n",
    "print(\"✅ Distribución regional muestra patrones geográficos específicos del mercado\")\n",
    "print(\"✅ Violinplot de descuentos muestra concentración en 0% y puntos específicos\")\n",
    "print(\"✅ Costos de envío varían significativamente según el modo de transporte\")\n",
    "print(\"✅ Gráfico guardado: 'graficos/superstore_seaborn_univariante.png'\")"
   ]
  }
 ],
 "metadata": {
  "kernelspec": {
   "display_name": "Python 3",
   "language": "python",
   "name": "python3"
  },
  "language_info": {
   "codemirror_mode": {
    "name": "ipython",
    "version": 3
   },
   "file_extension": ".py",
   "mimetype": "text/x-python",
   "name": "python",
   "nbconvert_exporter": "python",
   "pygments_lexer": "ipython3",
   "version": "3.13.1"
  }
 },
 "nbformat": 4,
 "nbformat_minor": 5
}
